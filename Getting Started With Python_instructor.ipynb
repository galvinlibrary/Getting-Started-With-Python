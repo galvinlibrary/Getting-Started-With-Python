{
 "cells": [
  {
   "cell_type": "markdown",
   "metadata": {},
   "source": [
    "Hello and welcome to __Getting Started with Python__!  This workshop has been designed for students with no programming experience or for students who may feel intimidated by college level CS or Technology courses.  Our goal is to introduce programming and computational thinking in an accessible, low stakes, and easy to understand manner. __Getting Started with Python__ is the first workshop in a planned Python series designed to build student programming comfort and ability and display how programming and computational thinking can be used by students outside of traditional technology disciplines.\n",
    "\n",
    "We are using a Jupyter Notebook to conduct this workshop. __Jupyter Notebook__ is an open-source web application that allows a user to create and share documents that contain live code, equations, visualizations and narrative text. Uses include: data cleaning and transformation, numerical simulation, statistical modeling, data visualization, machine learning, and much more.\n",
    "\n",
    "Before we begin let's walk through the notebook interface:\n",
    "\n",
    "\n",
    "<img src=\"https://jupyter-notebook.readthedocs.io/en/stable/_images/blank-notebook-ui.png\" align=\"left\">"
   ]
  },
  {
   "cell_type": "markdown",
   "metadata": {},
   "source": [
    "As you can see from the image, the interface presents the __name of the notebook__, a __menu bar__, __toolbar__ and __code cells__.\n",
    "\n",
    "The __menu bar__ provides functions for editing the notebook, running cells and a variety of other things.  It also allows you to add new code cells.\n",
    "\n",
    "A __code cell__ allows you to edit and write new code.  When code from a cell is executed, the results are displayed in the cell's output region below the code cell.\n"
   ]
  },
  {
   "cell_type": "markdown",
   "metadata": {},
   "source": [
    "Let's execute our first program.  We're going to use Python's built-in `print()` function. To execute a code block, select the block and click the __Run__ button in the Jupyter toolbar above or use the __Shift + Enter__ keyboard combination."
   ]
  },
  {
   "cell_type": "code",
   "execution_count": null,
   "metadata": {
    "scrolled": true
   },
   "outputs": [],
   "source": [
    "print(\"Hello World!\")"
   ]
  },
  {
   "cell_type": "markdown",
   "metadata": {},
   "source": [
    "In the program above we pass a __string (str)__ argument to python's `print()` function. Python includes many [built-in functions](https://docs.python.org/3/library/functions.html).\n",
    "\n",
    "###### Exercise:\n",
    "  1. Use the __Insert__ menu from the Jupyter Menu bar to insert a cell below this excercise.\n",
    "  2. Use the `print()` function to display your own message in the new cell."
   ]
  },
  {
   "cell_type": "markdown",
   "metadata": {},
   "source": [
    "See, programming is easy!  But we'll need to do more than print text strings if we want to be good programmers.  Let's discuss a few important concepts."
   ]
  },
  {
   "cell_type": "markdown",
   "metadata": {},
   "source": [
    "Variables\n",
    "---------------\n",
    "Variables are containers for stroring data values.\n",
    "They consist of __name__ and a __value__.  All value data has a __data type__.\n",
    "\n",
    "For example, in the variable food = \"taco\"\n",
    "\n",
    "- name = food\n",
    "- value = \"taco\"\n",
    "- type = string\n",
    "\n"
   ]
  },
  {
   "cell_type": "markdown",
   "metadata": {},
   "source": [
    "Data Types\n",
    "--------------------\n",
    "Python has [many data types](https://www.w3schools.com/python/python_datatypes.asp), but for today's workshop we will focus on only a few."
   ]
  },
  {
   "cell_type": "markdown",
   "metadata": {},
   "source": [
    "- __Text Type__\n",
    "    - `str` - Strings are sets of characters enclosed in quotes.\n",
    "  \n",
    "  \n",
    "- __Numeric Type__\n",
    "    - `int` - Integers are positive or negative whole numbers.\n",
    "    - `float` - Floating point are real numbers with a decimal point."
   ]
  },
  {
   "cell_type": "markdown",
   "metadata": {},
   "source": [
    "##### Exercise:\n",
    "  1. Run all the code blocks below.\n",
    "  2. Identify the __name__, __value__ and __type__ the variables below.\n",
    "  3. Create a new code cell and use it to create a variable containing your name.  Make sure to run the code after you've created the variable."
   ]
  },
  {
   "cell_type": "code",
   "execution_count": null,
   "metadata": {},
   "outputs": [],
   "source": [
    "var1 = \"blah blah blah 1234\""
   ]
  },
  {
   "cell_type": "code",
   "execution_count": null,
   "metadata": {},
   "outputs": [],
   "source": [
    "var2 = 2"
   ]
  },
  {
   "cell_type": "code",
   "execution_count": null,
   "metadata": {},
   "outputs": [],
   "source": [
    "radius = 5.5"
   ]
  },
  {
   "cell_type": "code",
   "execution_count": null,
   "metadata": {},
   "outputs": [],
   "source": [
    "pi = \"3.14159\""
   ]
  },
  {
   "cell_type": "markdown",
   "metadata": {},
   "source": [
    "##### Discussion:\n",
    "Can anyone identify the name, value and type of one of the variables for the class?  What happened when you ran the code blocks?"
   ]
  },
  {
   "cell_type": "markdown",
   "metadata": {},
   "source": [
    "##### Excersise:\n",
    "  1. Use your name variable and the print function to print your name."
   ]
  },
  {
   "attachments": {},
   "cell_type": "markdown",
   "metadata": {},
   "source": [
    "Functions\n",
    "----------------\n",
    "A function is a block of code which only runs when it is called.  Before functions can be called they must be defined using the `def` keyword.\n",
    "\n",
    "The function header consists of the `def` declaration, a __name__, __arguments__, and a __colon__ to mark the header end.\n",
    "\n",
    "The function __body__ contains valid python statements to be run when the function is called. Statements must also be __indented__.\n",
    "<img src=\"https://raw.githubusercontent.com/galvinlibrary/Getting-Started-With-Python/master/images/function.png\">\n",
    "Once a function is defined it can be called in the following way:\n",
    "\n",
    "`daily_special(\"Shrimp Tacos\", 8.99)`"
   ]
  },
  {
   "cell_type": "markdown",
   "metadata": {},
   "source": [
    "###### Functions can contain no arguments, just instructions."
   ]
  },
  {
   "cell_type": "code",
   "execution_count": null,
   "metadata": {},
   "outputs": [],
   "source": [
    "def my_greeting():\n",
    "    print(\"Howdy!\") "
   ]
  },
  {
   "cell_type": "markdown",
   "metadata": {},
   "source": [
    "###### Functions can require a single argument."
   ]
  },
  {
   "cell_type": "code",
   "execution_count": null,
   "metadata": {},
   "outputs": [],
   "source": [
    "def my_hello(name):\n",
    "  print(\"My name is \" + name + \".\" )"
   ]
  },
  {
   "cell_type": "markdown",
   "metadata": {},
   "source": [
    "###### Functions can require multiple arguemnts."
   ]
  },
  {
   "cell_type": "code",
   "execution_count": null,
   "metadata": {},
   "outputs": [],
   "source": [
    "def daily_special(dish, price):\n",
    "    special = \"Today's special is \" + dish + \" for $\" + str(price) + \".\"\n",
    "    return special"
   ]
  },
  {
   "cell_type": "markdown",
   "metadata": {},
   "source": [
    "###### Functions can also provide default arguments in case one is not provided."
   ]
  },
  {
   "cell_type": "code",
   "execution_count": null,
   "metadata": {},
   "outputs": [],
   "source": [
    "def my_workshop(msg = \"horrible!\"):\n",
    "    print(\"Getting Started With Python is \" + msg)"
   ]
  },
  {
   "cell_type": "markdown",
   "metadata": {},
   "source": [
    "###### Calling a function\n",
    "We called the `print()` function earlier. Remember, to call a function, use the __function name__ followed by __parenthesis__.\n",
    "\n",
    "###### Excercise:\n",
    "   1. Identify the __name__, __arguments__ and __body__ of each function above.\n",
    "   2. Run the code blocks above to define the functions.  What happened when you ran the code block?\n",
    "   3. Call each of the functions we defined above.  \n",
    "       __*Hint: Recall how we called the print function earlier.*__\n",
    "   4. Change the message in the `my_workshop()` function to your liking."
   ]
  },
  {
   "cell_type": "code",
   "execution_count": null,
   "metadata": {},
   "outputs": [],
   "source": []
  },
  {
   "cell_type": "code",
   "execution_count": null,
   "metadata": {},
   "outputs": [],
   "source": []
  },
  {
   "cell_type": "code",
   "execution_count": null,
   "metadata": {},
   "outputs": [],
   "source": []
  },
  {
   "cell_type": "markdown",
   "metadata": {},
   "source": [
    "##### Discussion:\n",
    "Did anyone have any trouble calling the functions?  Did anything strange happen?  Other observations?"
   ]
  },
  {
   "cell_type": "markdown",
   "metadata": {},
   "source": [
    "Functions can call other functions.  Let's take a look at an example. Run the code blocks below."
   ]
  },
  {
   "cell_type": "code",
   "execution_count": null,
   "metadata": {},
   "outputs": [],
   "source": [
    "import datetime"
   ]
  },
  {
   "cell_type": "code",
   "execution_count": null,
   "metadata": {},
   "outputs": [],
   "source": [
    "def print_date():\n",
    "    print(datetime.datetime.now())"
   ]
  },
  {
   "cell_type": "code",
   "execution_count": null,
   "metadata": {},
   "outputs": [],
   "source": [
    "print_date()"
   ]
  },
  {
   "cell_type": "markdown",
   "metadata": {},
   "source": [
    "##### Discussion\n",
    "Any questions about what is going on here? Comments? Thoughts?"
   ]
  },
  {
   "cell_type": "markdown",
   "metadata": {},
   "source": [
    " ##### Excercise:\n",
    "   1. Create your own function using using `my_greeting`, `my_hello`, and `my_workshop` to print a message like:"
   ]
  },
  {
   "cell_type": "markdown",
   "metadata": {},
   "source": [
    "        Howdy!\n",
    "\n",
    "        My name is Tim!\n",
    "\n",
    "        Getting Started With Python is sort of fun!"
   ]
  },
  {
   "cell_type": "markdown",
   "metadata": {},
   "source": [
    "###### Hint: First define your new function, then run it."
   ]
  },
  {
   "cell_type": "code",
   "execution_count": null,
   "metadata": {},
   "outputs": [],
   "source": []
  },
  {
   "cell_type": "code",
   "execution_count": null,
   "metadata": {},
   "outputs": [],
   "source": []
  },
  {
   "cell_type": "markdown",
   "metadata": {},
   "source": [
    "###### Hint: See code below if you're having trouble."
   ]
  },
  {
   "cell_type": "code",
   "execution_count": null,
   "metadata": {},
   "outputs": [],
   "source": [
    "def my_statement():\n",
    "    msg = \"fun!\"\n",
    "    my_greeting()\n",
    "    my_hello(name)\n",
    "    my_workshop(msg)"
   ]
  },
  {
   "cell_type": "markdown",
   "metadata": {},
   "source": [
    "Operators\n",
    "------------\n",
    "Operators are used to perform operations on variables and values.\n",
    "\n",
    "Python contains 7 [types of operators](https://www.w3schools.com/python/python_operators.asp), but today we'll focus on just a few."
   ]
  },
  {
   "cell_type": "markdown",
   "metadata": {},
   "source": [
    "#### Arithmetic\n",
    "Arithmetic operators are used with numeric values to perform common mathematical operations.  The set of arithmetic operators includes addition `+`, subtraction `-`, multiplication `*`, division `\\` and a few others.\n",
    "\n",
    "Example: To subtract 8 from 5 you can run the following:"
   ]
  },
  {
   "cell_type": "code",
   "execution_count": null,
   "metadata": {},
   "outputs": [],
   "source": [
    " 5 - 8"
   ]
  },
  {
   "cell_type": "markdown",
   "metadata": {},
   "source": [
    "To concatinate two strings you can also use the addition operator:"
   ]
  },
  {
   "cell_type": "code",
   "execution_count": null,
   "metadata": {},
   "outputs": [],
   "source": [
    "\"March \" + \"06, \" + \"2020\""
   ]
  },
  {
   "cell_type": "markdown",
   "metadata": {},
   "source": [
    "#### Assignment\n",
    "Assignment operators are used to assign values to variables.  There is a large set of assignment operators, but today we'll only talk about the `=` operator which we've already used to assign values to variables above.\n",
    "\n",
    "Example:  To assign the value Illinois Tech to my_school:"
   ]
  },
  {
   "cell_type": "code",
   "execution_count": 1,
   "metadata": {},
   "outputs": [],
   "source": [
    "my_school = \"Illinois Tech\""
   ]
  },
  {
   "cell_type": "markdown",
   "metadata": {},
   "source": [
    "##### Comparison\n",
    "Comparison operators are used to compare two values and include equal `==`, not equal `!=`, greater than and less than, `>` `<`, and greater/less than or equal to `>=` `<=`.\n",
    "\n",
    "Example: To test if apples equal oranges:\n"
   ]
  },
  {
   "cell_type": "code",
   "execution_count": null,
   "metadata": {},
   "outputs": [],
   "source": [
    "\"apples\" == \"oranges\""
   ]
  },
  {
   "cell_type": "markdown",
   "metadata": {},
   "source": [
    "##### Exercise:\n",
    "  1. Use some of our defined variables to play around with the arithmetic and comparison operators\n",
    "  2. Find the area of a circle using the pi and radius variables.\n",
    "  \n",
    "##### Hint: The area of a circle is π(r^2) and python's power operator is `**`."
   ]
  },
  {
   "cell_type": "code",
   "execution_count": null,
   "metadata": {},
   "outputs": [],
   "source": []
  },
  {
   "cell_type": "code",
   "execution_count": null,
   "metadata": {},
   "outputs": [],
   "source": []
  },
  {
   "cell_type": "code",
   "execution_count": null,
   "metadata": {},
   "outputs": [],
   "source": []
  },
  {
   "cell_type": "code",
   "execution_count": null,
   "metadata": {},
   "outputs": [],
   "source": []
  },
  {
   "cell_type": "markdown",
   "metadata": {},
   "source": [
    "##### Discussion\n",
    "What happened?  Did you notice anything intersting?  How were data types relevant when using operators?\n",
    "\n",
    "##### Hint: Try using the `type` function to find the `pi` variable's datatype."
   ]
  },
  {
   "cell_type": "code",
   "execution_count": null,
   "metadata": {},
   "outputs": [],
   "source": []
  },
  {
   "cell_type": "markdown",
   "metadata": {},
   "source": [
    "##### Excersise: \n",
    "  1. Create a function to calculate the area of a circle.\n",
    "  2. Print the area of a circle with a label."
   ]
  },
  {
   "cell_type": "code",
   "execution_count": null,
   "metadata": {},
   "outputs": [],
   "source": [
    "def area_circle(radius):\n",
    "    pi = 3.14159\n",
    "    blah = pi*radius**2\n",
    "    return blah"
   ]
  },
  {
   "cell_type": "code",
   "execution_count": null,
   "metadata": {},
   "outputs": [],
   "source": [
    "area_circle(5.5)"
   ]
  },
  {
   "cell_type": "code",
   "execution_count": null,
   "metadata": {},
   "outputs": [],
   "source": []
  },
  {
   "cell_type": "markdown",
   "metadata": {},
   "source": [
    "##### Hint: See code below if you're having difficulties."
   ]
  },
  {
   "cell_type": "code",
   "execution_count": null,
   "metadata": {},
   "outputs": [],
   "source": [
    "def area_circle_label(radius):\n",
    "    pi = 3.14159\n",
    "    print(\"The area of the circle is: \" +  str(area_circle(radius)))"
   ]
  },
  {
   "cell_type": "code",
   "execution_count": null,
   "metadata": {},
   "outputs": [],
   "source": [
    "area_circle_label(5.5)"
   ]
  },
  {
   "cell_type": "code",
   "execution_count": null,
   "metadata": {},
   "outputs": [],
   "source": []
  }
 ],
 "metadata": {
  "kernelspec": {
   "display_name": "Python 3",
   "language": "python",
   "name": "python3"
  },
  "language_info": {
   "codemirror_mode": {
    "name": "ipython",
    "version": 3
   },
   "file_extension": ".py",
   "mimetype": "text/x-python",
   "name": "python",
   "nbconvert_exporter": "python",
   "pygments_lexer": "ipython3",
   "version": "3.6.7"
  }
 },
 "nbformat": 4,
 "nbformat_minor": 4
}
